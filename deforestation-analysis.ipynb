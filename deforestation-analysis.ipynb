{
 "cells": [
  {
   "cell_type": "code",
   "execution_count": 5,
   "id": "6fe2cb7b",
   "metadata": {},
   "outputs": [],
   "source": [
    "import leafmap\n",
    "import rasterio\n",
    "import numpy as np\n",
    "from sklearn.cluster import KMeans"
   ]
  },
  {
   "cell_type": "code",
   "execution_count": 7,
   "id": "a34fa977",
   "metadata": {},
   "outputs": [],
   "source": [
    "# Load data\n",
    "def load_image(year):\n",
    "    folder = f'data/sentinel/{year}'\n",
    "    bands = [rasterio.open(f\"{folder}/B0{b}.jp2\").read(1) for b in [2,3,4,8]]\n",
    "    return np.stack(bands, axis=-1)\n",
    "\n",
    "def load_predictor(path):\n",
    "    with rasterio.open(path) as src:\n",
    "        return src.read(1)"
   ]
  },
  {
   "cell_type": "code",
   "execution_count": 9,
   "id": "dd9478df",
   "metadata": {},
   "outputs": [],
   "source": [
    "# Calculate NDVI\n",
    "def calc_ndvi(img):\n",
    "    return (img[:,:,3] - img[:,:,2]) / (img[:,:,3] + img[:,:,2] + 1e-6)\n",
    "\n",
    "# Calculate EVI\n",
    "def calc_evi(img):\n",
    "    # EVI = 2.5 * (NIR - Red) / (NIR + 6*Red - 7.5*Blue + 1)\n",
    "    nir = img[:, :, 3]   # B08\n",
    "    red = img[:, :, 2]   # B04\n",
    "    blue = img[:, :, 0]  # B02\n",
    "    return 2.5 * (nir - red) / (nir + 6 * red - 7.5 * blue + 1.0 + 1e-6)"
   ]
  },
  {
   "cell_type": "code",
   "execution_count": 13,
   "id": "e9a11a20",
   "metadata": {},
   "outputs": [],
   "source": [
    "# KMeans Classification\n",
    "def classify_kmeans(img):\n",
    "    data = img[:,:, [2,3]].reshape(-1,2)\n",
    "    km = KMeans(2).fit(data)\n",
    "    return km.labels_.reshape(img.shape[0], img.shape[1])"
   ]
  },
  {
   "cell_type": "code",
   "execution_count": 15,
   "id": "69d385f5",
   "metadata": {},
   "outputs": [],
   "source": [
    "# Display NDVI in map\n",
    "def display_map(arr, name='NDVI'):\n",
    "    import leafmap\n",
    "    import rasterio\n",
    "    from rasterio.transform import from_origin\n",
    "\n",
    "    # Simulate a georeference transform (adjust to your actual bounds/resolution!)\n",
    "    transform = from_origin(-69, -15, 0.0001, 0.0001)  # (west, north, xres, yres)\n",
    "    height, width = arr.shape\n",
    "    center_row = height // 2\n",
    "    center_col = width // 2\n",
    "    center_lon, center_lat = transform * (center_col, center_row)\n",
    "\n",
    "    coords = []\n",
    "    for row in range(0, arr.shape[0], 10):  # subsample for performance\n",
    "        for col in range(0, arr.shape[1], 10):\n",
    "            val = arr[row, col]\n",
    "            if not np.isnan(val):\n",
    "                lon, lat = transform * (col, row)\n",
    "                coords.append([lat, lon, float(val)])\n",
    "\n",
    "    # Convert to DataFrame\n",
    "    import pandas as pd\n",
    "    df = pd.DataFrame(coords, columns=[\"latitude\", \"longitude\", \"value\"])\n",
    "\n",
    "    # Create and show the map\n",
    "    m = leafmap.Map(center=[center_lat, center_lon], zoom=7)\n",
    "    m.add_heatmap(data=df, latitude=\"latitude\", longitude=\"longitude\", value=\"value\", name=name, radius=10)\n",
    "    m.add_layer_control()\n",
    "    display(m)\n"
   ]
  },
  {
   "cell_type": "code",
   "execution_count": 17,
   "id": "e16a7db2",
   "metadata": {},
   "outputs": [],
   "source": [
    "data = {\n",
    "    year: {\n",
    "        'sentinel': load_image(year),\n",
    "        'pop': load_predictor(f\"data/population/{year}.tif\"),\n",
    "        'precip': load_predictor(f\"data/precipitation/{year}.tif\"),\n",
    "        'temp': load_predictor(f\"data/temperature/{year}.tif\")\n",
    "    } for year in range(2020, 2025)\n",
    "}\n",
    "dem = load_predictor(\"data/dem.tif\")"
   ]
  },
  {
   "cell_type": "code",
   "execution_count": 19,
   "id": "c0f3d833",
   "metadata": {},
   "outputs": [],
   "source": [
    "import ipywidgets as widgets\n",
    "from IPython.display import display"
   ]
  },
  {
   "cell_type": "code",
   "execution_count": 21,
   "id": "24b7f0cb",
   "metadata": {},
   "outputs": [],
   "source": [
    "year_dropdown = widgets.Dropdown(options=[2020, 2021, 2022, 2023, 2024], description='Year:')\n",
    "index_select = widgets.Dropdown(options=['NDVI', 'EVI', 'Classification'], description='Analysis:')\n",
    "run_button = widgets.Button(description='Run')\n",
    "output = widgets.Output()"
   ]
  },
  {
   "cell_type": "code",
   "execution_count": 27,
   "id": "2cab6de1",
   "metadata": {},
   "outputs": [
    {
     "data": {
      "application/vnd.jupyter.widget-view+json": {
       "model_id": "c78aede58e2b4b8d8a5004a62cd7a32c",
       "version_major": 2,
       "version_minor": 0
      },
      "text/plain": [
       "VBox(children=(Dropdown(description='Year:', options=(2020, 2021, 2022, 2023, 2024), value=2020), Dropdown(des…"
      ]
     },
     "metadata": {},
     "output_type": "display_data"
    }
   ],
   "source": [
    "ui = widgets.VBox([year_dropdown, index_select, run_button, output])\n",
    "display(ui)"
   ]
  },
  {
   "cell_type": "code",
   "execution_count": 25,
   "id": "0c12493e",
   "metadata": {},
   "outputs": [],
   "source": [
    "def on_run_clicked(b):\n",
    "    output.clear_output()\n",
    "    year = year_dropdown.value\n",
    "    analysis = index_select.value\n",
    "    img = data[year]['sentinel']\n",
    "    \n",
    "    with output:\n",
    "        if analysis == 'NDVI':\n",
    "            ndvi = calc_ndvi(img)\n",
    "            display_map(ndvi, name=f\"NDVI {year}\")\n",
    "        elif analysis == 'EVI':\n",
    "            evi = calc_evi(img)\n",
    "            display_map(evi, name=f\"EVI {year}\")\n",
    "        elif analysis == 'Classification':\n",
    "            cls = classify_kmeans(img)\n",
    "            display_map(cls.astype(float), name=f\"Land Cover {year}\")\n",
    "\n",
    "run_button.on_click(on_run_clicked)"
   ]
  }
 ],
 "metadata": {
  "kernelspec": {
   "display_name": "Python 3 (ipykernel)",
   "language": "python",
   "name": "python3"
  },
  "language_info": {
   "codemirror_mode": {
    "name": "ipython",
    "version": 3
   },
   "file_extension": ".py",
   "mimetype": "text/x-python",
   "name": "python",
   "nbconvert_exporter": "python",
   "pygments_lexer": "ipython3",
   "version": "3.12.7"
  }
 },
 "nbformat": 4,
 "nbformat_minor": 5
}
